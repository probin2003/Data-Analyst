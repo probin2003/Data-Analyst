{
 "cells": [
  {
   "cell_type": "markdown",
   "id": "fd7186b8-0fb3-43ac-b2d9-c67531a886a4",
   "metadata": {},
   "source": [
    "#  Day one of data analyst "
   ]
  },
  {
   "cell_type": "code",
   "execution_count": null,
   "id": "1624eccc-08e5-4a78-9b53-792aac7cdb45",
   "metadata": {},
   "outputs": [],
   "source": []
  },
  {
   "cell_type": "code",
   "execution_count": null,
   "id": "24b2f3a5-91aa-4457-95c1-16d231968be8",
   "metadata": {},
   "outputs": [],
   "source": []
  },
  {
   "cell_type": "markdown",
   "id": "8b7d4e47-3b65-420f-8228-71c2f2de90ed",
   "metadata": {},
   "source": [
    "print(\"probin pegu\")"
   ]
  },
  {
   "cell_type": "code",
   "execution_count": null,
   "id": "01ab1dda-7b08-4e66-a35c-fb5d1a248d09",
   "metadata": {},
   "outputs": [],
   "source": []
  },
  {
   "cell_type": "code",
   "execution_count": 1,
   "id": "77de5121-90e4-4ce4-9545-87a61a8c233f",
   "metadata": {},
   "outputs": [
    {
     "name": "stdout",
     "output_type": "stream",
     "text": [
      "1\n"
     ]
    }
   ],
   "source": [
    "a = 1\n",
    "print(a)"
   ]
  },
  {
   "cell_type": "code",
   "execution_count": 2,
   "id": "5ce3b2c5-29b5-4d97-8c72-ed38103197ed",
   "metadata": {},
   "outputs": [
    {
     "name": "stdout",
     "output_type": "stream",
     "text": [
      "apple mango\n"
     ]
    }
   ],
   "source": [
    "x=\"apple\"\n",
    "y=\"mango\"\n",
    "print(x,y)"
   ]
  },
  {
   "cell_type": "markdown",
   "id": "de17c391-d38e-4429-97f4-e0d780536b17",
   "metadata": {},
   "source": [
    "# python output variables"
   ]
  },
  {
   "cell_type": "markdown",
   "id": "d1ff4ca6-4af5-4929-b5fc-3c6f84cb8118",
   "metadata": {},
   "source": [
    "# operator in python "
   ]
  },
  {
   "cell_type": "code",
   "execution_count": 4,
   "id": "172a469e-d56c-4700-8373-cf1e3191f746",
   "metadata": {},
   "outputs": [
    {
     "name": "stdout",
     "output_type": "stream",
     "text": [
      "6\n"
     ]
    }
   ],
   "source": [
    "a=2\n",
    "b=4\n",
    "print(a+b)"
   ]
  },
  {
   "cell_type": "code",
   "execution_count": 5,
   "id": "ee8f6e44-0d87-4bba-82be-a63d2cdba94e",
   "metadata": {},
   "outputs": [
    {
     "name": "stdout",
     "output_type": "stream",
     "text": [
      "(7.8+9.8j)\n"
     ]
    }
   ],
   "source": [
    "a= 7.8\n",
    "b=9.8j\n",
    "print(a+b)\n",
    "\n"
   ]
  },
  {
   "cell_type": "code",
   "execution_count": 7,
   "id": "54aeaeca-17a8-4010-aa46-306f53beeca7",
   "metadata": {},
   "outputs": [
    {
     "name": "stdout",
     "output_type": "stream",
     "text": [
      "probin pegu\n"
     ]
    }
   ],
   "source": [
    "a=\"probin\"\n",
    "b=\"pegu\"\n",
    "print(a+\" \"+b)"
   ]
  },
  {
   "cell_type": "code",
   "execution_count": 8,
   "id": "eca3fcc6-5099-4c11-9d42-6a80d3597446",
   "metadata": {},
   "outputs": [
    {
     "name": "stdout",
     "output_type": "stream",
     "text": [
      "-3\n"
     ]
    }
   ],
   "source": [
    "a=5\n",
    "b=8\n",
    "print(a-b)\n"
   ]
  },
  {
   "cell_type": "code",
   "execution_count": 11,
   "id": "ac5339af-e630-4876-a95a-f4352a6029e4",
   "metadata": {},
   "outputs": [
    {
     "name": "stdout",
     "output_type": "stream",
     "text": [
      "my name is proibn pegu\n",
      " i'm currently at iitr\n",
      " pursuing a b.tech degree\n",
      "<class 'str'>\n"
     ]
    }
   ],
   "source": [
    "x=\"my name is proibn pegu\\n i'm currently at iitr\\n pursuing a b.tech degree\"\n",
    "print(x)\n",
    "print(type(x))"
   ]
  },
  {
   "cell_type": "code",
   "execution_count": 12,
   "id": "643bb947-b39e-431b-9b24-15517fed751d",
   "metadata": {},
   "outputs": [
    {
     "name": "stdout",
     "output_type": "stream",
     "text": [
      "0\n"
     ]
    }
   ],
   "source": [
    "a=4\n",
    "b=2\n",
    "print(a%b)"
   ]
  },
  {
   "cell_type": "code",
   "execution_count": 13,
   "id": "0c0c1318-9c0e-488d-87f8-28cd4d67ef64",
   "metadata": {},
   "outputs": [
    {
     "name": "stdout",
     "output_type": "stream",
     "text": [
      "2.0\n"
     ]
    }
   ],
   "source": [
    "a=4\n",
    "b=2\n",
    "print(a/b)"
   ]
  },
  {
   "cell_type": "markdown",
   "id": "35ee09ce-8d11-4591-8f5b-e367175b6b99",
   "metadata": {},
   "source": [
    "# exponent or power"
   ]
  },
  {
   "cell_type": "code",
   "execution_count": 14,
   "id": "711908ba-61a6-4ea2-b74c-fbd3fd4056d8",
   "metadata": {},
   "outputs": [
    {
     "name": "stdout",
     "output_type": "stream",
     "text": [
      "28860949285781355795036746167855242710318255539896939963152855401773422272526659071445465087890625\n"
     ]
    }
   ],
   "source": [
    "a=55\n",
    "print(a**56)"
   ]
  },
  {
   "cell_type": "markdown",
   "id": "3033ae6c-e0b7-4342-9428-b947c8222355",
   "metadata": {},
   "source": [
    "# Built in function"
   ]
  },
  {
   "cell_type": "code",
   "execution_count": 15,
   "id": "181ecc6d-2d29-42fc-b0f5-0569587795d1",
   "metadata": {},
   "outputs": [
    {
     "name": "stdout",
     "output_type": "stream",
     "text": [
      "7.52\n"
     ]
    }
   ],
   "source": [
    "x=abs(-7.52)\n",
    "print(x)"
   ]
  },
  {
   "cell_type": "code",
   "execution_count": 16,
   "id": "cef7a850-3f6e-4da0-a79a-2643f2311c8c",
   "metadata": {},
   "outputs": [
    {
     "name": "stdout",
     "output_type": "stream",
     "text": [
      "4.999200036005761\n"
     ]
    }
   ],
   "source": [
    "x=abs(3.999j+3)\n",
    "print(x)"
   ]
  },
  {
   "cell_type": "markdown",
   "id": "3ce552ce-8d1d-4a71-9039-95ac58106ab5",
   "metadata": {},
   "source": [
    "# binary function"
   ]
  },
  {
   "cell_type": "code",
   "execution_count": 19,
   "id": "8fd1e07c-ff87-451a-9c3e-24ce7697d739",
   "metadata": {},
   "outputs": [
    {
     "name": "stdout",
     "output_type": "stream",
     "text": [
      "0b100100\n"
     ]
    }
   ],
   "source": [
    "y=bin(36)\n",
    "print(y)"
   ]
  },
  {
   "cell_type": "code",
   "execution_count": 21,
   "id": "b3440576-e664-410c-b0ee-60b50fc82a47",
   "metadata": {},
   "outputs": [
    {
     "name": "stdout",
     "output_type": "stream",
     "text": [
      "0b111000\n"
     ]
    }
   ],
   "source": [
    "x=bin(56)\n",
    "print(x)"
   ]
  },
  {
   "cell_type": "markdown",
   "id": "e563905f-152c-46af-b2b0-1daf48c9db5d",
   "metadata": {},
   "source": [
    "# Bytes function"
   ]
  },
  {
   "cell_type": "code",
   "execution_count": 22,
   "id": "1f7eb504-10f2-492b-8fe1-c68a1630aeb2",
   "metadata": {},
   "outputs": [
    {
     "name": "stdout",
     "output_type": "stream",
     "text": [
      "b'\\x00\\x00\\x00\\x00'\n"
     ]
    }
   ],
   "source": [
    " x=bytes(4)\n",
    "print(x)"
   ]
  },
  {
   "cell_type": "markdown",
   "id": "b5239464-817f-45b2-91c2-207242321759",
   "metadata": {},
   "source": [
    "# complex function"
   ]
  },
  {
   "cell_type": "code",
   "execution_count": 23,
   "id": "bd985bfb-3025-46b4-ab2e-e3991f164537",
   "metadata": {},
   "outputs": [
    {
     "name": "stdout",
     "output_type": "stream",
     "text": [
      "(3+4j)\n"
     ]
    }
   ],
   "source": [
    "x=complex(3,4)\n",
    "print(x)"
   ]
  },
  {
   "cell_type": "code",
   "execution_count": 24,
   "id": "1df23bc4-920c-4022-81e8-5d3b554e3335",
   "metadata": {},
   "outputs": [
    {
     "name": "stdout",
     "output_type": "stream",
     "text": [
      "(2+0j)\n"
     ]
    }
   ],
   "source": [
    "x=complex(2)\n",
    "print(x)"
   ]
  },
  {
   "cell_type": "markdown",
   "id": "8efb3890-daf0-457e-a5a7-4be324fa7a7f",
   "metadata": {},
   "source": [
    "# float function"
   ]
  },
  {
   "cell_type": "code",
   "execution_count": 25,
   "id": "bbf88a93-8dc7-42e4-b9cc-734559b192e5",
   "metadata": {},
   "outputs": [
    {
     "name": "stdout",
     "output_type": "stream",
     "text": [
      "2.0\n"
     ]
    }
   ],
   "source": [
    "x =float(2)\n",
    "print(x)"
   ]
  },
  {
   "cell_type": "markdown",
   "id": "d6583b8a-1d51-4d2e-8050-4046711bb6ac",
   "metadata": {},
   "source": [
    "# integer function"
   ]
  },
  {
   "cell_type": "code",
   "execution_count": 26,
   "id": "c97855b0-186e-42e4-bfce-b1bcf7e8451d",
   "metadata": {},
   "outputs": [
    {
     "name": "stdout",
     "output_type": "stream",
     "text": [
      "23\n"
     ]
    }
   ],
   "source": [
    "x=int(23.45)\n",
    "print(x)"
   ]
  },
  {
   "cell_type": "code",
   "execution_count": 27,
   "id": "92b9ab52-bcc9-4044-9588-46bfbcbf2de5",
   "metadata": {},
   "outputs": [
    {
     "name": "stdout",
     "output_type": "stream",
     "text": [
      "23\n"
     ]
    }
   ],
   "source": [
    "x=int(23)\n",
    "print(x)"
   ]
  },
  {
   "cell_type": "markdown",
   "id": "ba6077eb-89b6-44bb-b696-79eece9fd5e9",
   "metadata": {},
   "source": [
    "# string function"
   ]
  },
  {
   "cell_type": "code",
   "execution_count": 30,
   "id": "5ca7324e-8967-44ea-907c-0ee4261f2f1c",
   "metadata": {},
   "outputs": [
    {
     "name": "stdout",
     "output_type": "stream",
     "text": [
      "1234\n",
      "<class 'str'>\n"
     ]
    }
   ],
   "source": [
    "x=str(1234)\n",
    "print(x)\n",
    "print(type(x))"
   ]
  },
  {
   "cell_type": "markdown",
   "id": "f85204ee-27e5-4bcd-bd7a-fcf30499b1a3",
   "metadata": {},
   "source": [
    "# help function"
   ]
  },
  {
   "cell_type": "code",
   "execution_count": 31,
   "id": "2be61a51-9728-413b-b1e7-96029d400644",
   "metadata": {},
   "outputs": [
    {
     "name": "stdout",
     "output_type": "stream",
     "text": [
      "Help on built-in function print in module builtins:\n",
      "\n",
      "print(*args, sep=' ', end='\\n', file=None, flush=False)\n",
      "    Prints the values to a stream, or to sys.stdout by default.\n",
      "\n",
      "    sep\n",
      "      string inserted between values, default a space.\n",
      "    end\n",
      "      string appended after the last value, default a newline.\n",
      "    file\n",
      "      a file-like object (stream); defaults to the current sys.stdout.\n",
      "    flush\n",
      "      whether to forcibly flush the stream.\n",
      "\n"
     ]
    }
   ],
   "source": [
    "help(print)"
   ]
  },
  {
   "cell_type": "code",
   "execution_count": 32,
   "id": "8c11d726-ffb4-4400-a28c-d90c7070881a",
   "metadata": {},
   "outputs": [
    {
     "name": "stdout",
     "output_type": "stream",
     "text": [
      "Help on class float in module builtins:\n",
      "\n",
      "class float(object)\n",
      " |  float(x=0, /)\n",
      " |\n",
      " |  Convert a string or number to a floating point number, if possible.\n",
      " |\n",
      " |  Methods defined here:\n",
      " |\n",
      " |  __abs__(self, /)\n",
      " |      abs(self)\n",
      " |\n",
      " |  __add__(self, value, /)\n",
      " |      Return self+value.\n",
      " |\n",
      " |  __bool__(self, /)\n",
      " |      True if self else False\n",
      " |\n",
      " |  __ceil__(self, /)\n",
      " |      Return the ceiling as an Integral.\n",
      " |\n",
      " |  __divmod__(self, value, /)\n",
      " |      Return divmod(self, value).\n",
      " |\n",
      " |  __eq__(self, value, /)\n",
      " |      Return self==value.\n",
      " |\n",
      " |  __float__(self, /)\n",
      " |      float(self)\n",
      " |\n",
      " |  __floor__(self, /)\n",
      " |      Return the floor as an Integral.\n",
      " |\n",
      " |  __floordiv__(self, value, /)\n",
      " |      Return self//value.\n",
      " |\n",
      " |  __format__(self, format_spec, /)\n",
      " |      Formats the float according to format_spec.\n",
      " |\n",
      " |  __ge__(self, value, /)\n",
      " |      Return self>=value.\n",
      " |\n",
      " |  __getattribute__(self, name, /)\n",
      " |      Return getattr(self, name).\n",
      " |\n",
      " |  __getnewargs__(self, /)\n",
      " |\n",
      " |  __gt__(self, value, /)\n",
      " |      Return self>value.\n",
      " |\n",
      " |  __hash__(self, /)\n",
      " |      Return hash(self).\n",
      " |\n",
      " |  __int__(self, /)\n",
      " |      int(self)\n",
      " |\n",
      " |  __le__(self, value, /)\n",
      " |      Return self<=value.\n",
      " |\n",
      " |  __lt__(self, value, /)\n",
      " |      Return self<value.\n",
      " |\n",
      " |  __mod__(self, value, /)\n",
      " |      Return self%value.\n",
      " |\n",
      " |  __mul__(self, value, /)\n",
      " |      Return self*value.\n",
      " |\n",
      " |  __ne__(self, value, /)\n",
      " |      Return self!=value.\n",
      " |\n",
      " |  __neg__(self, /)\n",
      " |      -self\n",
      " |\n",
      " |  __pos__(self, /)\n",
      " |      +self\n",
      " |\n",
      " |  __pow__(self, value, mod=None, /)\n",
      " |      Return pow(self, value, mod).\n",
      " |\n",
      " |  __radd__(self, value, /)\n",
      " |      Return value+self.\n",
      " |\n",
      " |  __rdivmod__(self, value, /)\n",
      " |      Return divmod(value, self).\n",
      " |\n",
      " |  __repr__(self, /)\n",
      " |      Return repr(self).\n",
      " |\n",
      " |  __rfloordiv__(self, value, /)\n",
      " |      Return value//self.\n",
      " |\n",
      " |  __rmod__(self, value, /)\n",
      " |      Return value%self.\n",
      " |\n",
      " |  __rmul__(self, value, /)\n",
      " |      Return value*self.\n",
      " |\n",
      " |  __round__(self, ndigits=None, /)\n",
      " |      Return the Integral closest to x, rounding half toward even.\n",
      " |\n",
      " |      When an argument is passed, work like built-in round(x, ndigits).\n",
      " |\n",
      " |  __rpow__(self, value, mod=None, /)\n",
      " |      Return pow(value, self, mod).\n",
      " |\n",
      " |  __rsub__(self, value, /)\n",
      " |      Return value-self.\n",
      " |\n",
      " |  __rtruediv__(self, value, /)\n",
      " |      Return value/self.\n",
      " |\n",
      " |  __sub__(self, value, /)\n",
      " |      Return self-value.\n",
      " |\n",
      " |  __truediv__(self, value, /)\n",
      " |      Return self/value.\n",
      " |\n",
      " |  __trunc__(self, /)\n",
      " |      Return the Integral closest to x between 0 and x.\n",
      " |\n",
      " |  as_integer_ratio(self, /)\n",
      " |      Return a pair of integers, whose ratio is exactly equal to the original float.\n",
      " |\n",
      " |      The ratio is in lowest terms and has a positive denominator.  Raise\n",
      " |      OverflowError on infinities and a ValueError on NaNs.\n",
      " |\n",
      " |      >>> (10.0).as_integer_ratio()\n",
      " |      (10, 1)\n",
      " |      >>> (0.0).as_integer_ratio()\n",
      " |      (0, 1)\n",
      " |      >>> (-.25).as_integer_ratio()\n",
      " |      (-1, 4)\n",
      " |\n",
      " |  conjugate(self, /)\n",
      " |      Return self, the complex conjugate of any float.\n",
      " |\n",
      " |  hex(self, /)\n",
      " |      Return a hexadecimal representation of a floating-point number.\n",
      " |\n",
      " |      >>> (-0.1).hex()\n",
      " |      '-0x1.999999999999ap-4'\n",
      " |      >>> 3.14159.hex()\n",
      " |      '0x1.921f9f01b866ep+1'\n",
      " |\n",
      " |  is_integer(self, /)\n",
      " |      Return True if the float is an integer.\n",
      " |\n",
      " |  ----------------------------------------------------------------------\n",
      " |  Class methods defined here:\n",
      " |\n",
      " |  __getformat__(typestr, /)\n",
      " |      You probably don't want to use this function.\n",
      " |\n",
      " |        typestr\n",
      " |          Must be 'double' or 'float'.\n",
      " |\n",
      " |      It exists mainly to be used in Python's test suite.\n",
      " |\n",
      " |      This function returns whichever of 'unknown', 'IEEE, big-endian' or 'IEEE,\n",
      " |      little-endian' best describes the format of floating point numbers used by the\n",
      " |      C type named by typestr.\n",
      " |\n",
      " |  fromhex(string, /)\n",
      " |      Create a floating-point number from a hexadecimal string.\n",
      " |\n",
      " |      >>> float.fromhex('0x1.ffffp10')\n",
      " |      2047.984375\n",
      " |      >>> float.fromhex('-0x1p-1074')\n",
      " |      -5e-324\n",
      " |\n",
      " |  ----------------------------------------------------------------------\n",
      " |  Static methods defined here:\n",
      " |\n",
      " |  __new__(*args, **kwargs)\n",
      " |      Create and return a new object.  See help(type) for accurate signature.\n",
      " |\n",
      " |  ----------------------------------------------------------------------\n",
      " |  Data descriptors defined here:\n",
      " |\n",
      " |  imag\n",
      " |      the imaginary part of a complex number\n",
      " |\n",
      " |  real\n",
      " |      the real part of a complex number\n",
      "\n"
     ]
    }
   ],
   "source": [
    "help(float)"
   ]
  },
  {
   "cell_type": "markdown",
   "id": "0abe628f-289d-4674-a6e6-b7ca1a1312aa",
   "metadata": {},
   "source": [
    "# input funnction"
   ]
  },
  {
   "cell_type": "code",
   "execution_count": 33,
   "id": "684e90ae-eb18-4243-959f-455eb3e3cec5",
   "metadata": {},
   "outputs": [
    {
     "name": "stdout",
     "output_type": "stream",
     "text": [
      "enter your nmae probin\n"
     ]
    },
    {
     "name": "stdout",
     "output_type": "stream",
     "text": [
      "probin\n"
     ]
    }
   ],
   "source": [
    "x=input(\"enter your nmae\")\n",
    "print(x)\n"
   ]
  },
  {
   "cell_type": "markdown",
   "id": "7baca153-9f75-47f7-8858-b5652b3ee7aa",
   "metadata": {},
   "source": [
    "# Day 3"
   ]
  },
  {
   "cell_type": "markdown",
   "id": "4674818d-469d-4bb5-981f-e38ca58144ae",
   "metadata": {},
   "source": [
    "# condition statement"
   ]
  },
  {
   "cell_type": "code",
   "execution_count": null,
   "id": "c408494a-53d1-4f72-8b3e-7273b4630486",
   "metadata": {},
   "outputs": [],
   "source": [
    "student= probin\n",
    "subject=maths, social science, hindi\n",
    "\n",
    "\n"
   ]
  }
 ],
 "metadata": {
  "kernelspec": {
   "display_name": "Python 3 (ipykernel)",
   "language": "python",
   "name": "python3"
  },
  "language_info": {
   "codemirror_mode": {
    "name": "ipython",
    "version": 3
   },
   "file_extension": ".py",
   "mimetype": "text/x-python",
   "name": "python",
   "nbconvert_exporter": "python",
   "pygments_lexer": "ipython3",
   "version": "3.12.4"
  }
 },
 "nbformat": 4,
 "nbformat_minor": 5
}
